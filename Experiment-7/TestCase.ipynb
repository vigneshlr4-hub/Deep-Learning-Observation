{
 "cells": [
  {
   "cell_type": "code",
   "execution_count": 2,
   "id": "1bf73861-2231-4fdb-8a5c-7b5de8416388",
   "metadata": {},
   "outputs": [
    {
     "data": {
      "application/vnd.jupyter.widget-view+json": {
       "model_id": "5dda554cf20145bb9b404be1c34f4b0b",
       "version_major": 2,
       "version_minor": 0
      },
      "text/plain": [
       "source.spm:   0%|          | 0.00/812k [00:00<?, ?B/s]"
      ]
     },
     "metadata": {},
     "output_type": "display_data"
    },
    {
     "name": "stderr",
     "output_type": "stream",
     "text": [
      "C:\\Users\\CSE-DEPT\\anaconda3\\New folder\\Lib\\site-packages\\huggingface_hub\\file_download.py:143: UserWarning: `huggingface_hub` cache-system uses symlinks by default to efficiently store duplicated files but your machine does not support them in C:\\Users\\CSE-DEPT\\.cache\\huggingface\\hub\\models--Helsinki-NLP--opus-mt-en-hi. Caching files will still work but in a degraded version that might require more space on your disk. This warning can be disabled by setting the `HF_HUB_DISABLE_SYMLINKS_WARNING` environment variable. For more details, see https://huggingface.co/docs/huggingface_hub/how-to-cache#limitations.\n",
      "To support symlinks on Windows, you either need to activate Developer Mode or to run Python as an administrator. In order to activate developer mode, see this article: https://docs.microsoft.com/en-us/windows/apps/get-started/enable-your-device-for-development\n",
      "  warnings.warn(message)\n"
     ]
    },
    {
     "data": {
      "application/vnd.jupyter.widget-view+json": {
       "model_id": "66380585727c49da9ee16ca8af9184fc",
       "version_major": 2,
       "version_minor": 0
      },
      "text/plain": [
       "target.spm:   0%|          | 0.00/1.07M [00:00<?, ?B/s]"
      ]
     },
     "metadata": {},
     "output_type": "display_data"
    },
    {
     "data": {
      "application/vnd.jupyter.widget-view+json": {
       "model_id": "7df312aaf39c41b3b371dc8f9deec07a",
       "version_major": 2,
       "version_minor": 0
      },
      "text/plain": [
       "vocab.json: 0.00B [00:00, ?B/s]"
      ]
     },
     "metadata": {},
     "output_type": "display_data"
    },
    {
     "name": "stderr",
     "output_type": "stream",
     "text": [
      "C:\\Users\\CSE-DEPT\\anaconda3\\New folder\\Lib\\site-packages\\transformers\\models\\marian\\tokenization_marian.py:175: UserWarning: Recommended: pip install sacremoses.\n",
      "  warnings.warn(\"Recommended: pip install sacremoses.\")\n",
      "Xet Storage is enabled for this repo, but the 'hf_xet' package is not installed. Falling back to regular HTTP download. For better performance, install the package with: `pip install huggingface_hub[hf_xet]` or `pip install hf_xet`\n"
     ]
    },
    {
     "data": {
      "application/vnd.jupyter.widget-view+json": {
       "model_id": "8921aaf065294708903c96d84fe117cc",
       "version_major": 2,
       "version_minor": 0
      },
      "text/plain": [
       "pytorch_model.bin:   0%|          | 0.00/306M [00:00<?, ?B/s]"
      ]
     },
     "metadata": {},
     "output_type": "display_data"
    },
    {
     "data": {
      "application/vnd.jupyter.widget-view+json": {
       "model_id": "6a78500b5c2d4c109406d0143f20f31b",
       "version_major": 2,
       "version_minor": 0
      },
      "text/plain": [
       "generation_config.json:   0%|          | 0.00/293 [00:00<?, ?B/s]"
      ]
     },
     "metadata": {},
     "output_type": "display_data"
    },
    {
     "name": "stdout",
     "output_type": "stream",
     "text": [
      "\n",
      "Translation Evaluation Results:\n",
      "\n",
      "Input Sentence Predicted Output (Hindi) Expected Output (Hindi) Correct (Y/N)\n",
      "  How are you?             आप कैसे हैं?            तुम कैसे हो?             N\n",
      "I love coding.       मैं codding प्यार.    मुझे कोडिंग पसंद है।             N\n"
     ]
    }
   ],
   "source": [
    "from transformers import AutoTokenizer, AutoModelForSeq2SeqLM\n",
    "import pandas as pd\n",
    "\n",
    "# Load tokenizer and model\n",
    "model_name = \"Helsinki-NLP/opus-mt-en-hi\"\n",
    "tokenizer = AutoTokenizer.from_pretrained(model_name)\n",
    "model = AutoModelForSeq2SeqLM.from_pretrained(model_name)\n",
    "\n",
    "def translate_en_to_hi(sentence: str) -> str:\n",
    "    # Tokenize input\n",
    "    inputs = tokenizer(sentence, return_tensors=\"pt\", padding=True)\n",
    "    # Generate translation (beam search)\n",
    "    translated = model.generate(**inputs, num_beams=5, max_length=50, early_stopping=True)\n",
    "    # Decode to string, skip special tokens\n",
    "    tgt = tokenizer.decode(translated[0], skip_special_tokens=True)\n",
    "    return tgt\n",
    "\n",
    "# Test cases\n",
    "test_sentences = [\n",
    "    (\"How are you?\", \"तुम कैसे हो?\"),\n",
    "    (\"I love coding.\", \"मुझे कोडिंग पसंद है।\")\n",
    "]\n",
    "\n",
    "results = []\n",
    "for eng, correct_hi in test_sentences:\n",
    "    pred_hi = translate_en_to_hi(eng)\n",
    "    is_correct = \"Y\" if pred_hi.replace(\" \", \"\") == correct_hi.replace(\" \", \"\") else \"N\"\n",
    "    results.append({\n",
    "        \"Input Sentence\": eng,\n",
    "        \"Predicted Output (Hindi)\": pred_hi,\n",
    "        \"Expected Output (Hindi)\": correct_hi,\n",
    "        \"Correct (Y/N)\": is_correct\n",
    "    })\n",
    "\n",
    "# Display\n",
    "df = pd.DataFrame(results)\n",
    "print(\"\\nTranslation Evaluation Results:\\n\")\n",
    "print(df.to_string(index=False))\n"
   ]
  },
  {
   "cell_type": "code",
   "execution_count": null,
   "id": "482b7f63-55e4-48ab-80f3-e8d23088059f",
   "metadata": {},
   "outputs": [],
   "source": []
  }
 ],
 "metadata": {
  "kernelspec": {
   "display_name": "Python 3 (ipykernel)",
   "language": "python",
   "name": "python3"
  },
  "language_info": {
   "codemirror_mode": {
    "name": "ipython",
    "version": 3
   },
   "file_extension": ".py",
   "mimetype": "text/x-python",
   "name": "python",
   "nbconvert_exporter": "python",
   "pygments_lexer": "ipython3",
   "version": "3.12.7"
  }
 },
 "nbformat": 4,
 "nbformat_minor": 5
}
