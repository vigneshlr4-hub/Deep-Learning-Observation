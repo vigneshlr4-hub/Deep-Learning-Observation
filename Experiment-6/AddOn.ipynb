{
 "cells": [
  {
   "cell_type": "code",
   "execution_count": 13,
   "id": "95e6d5c9-0b3d-45b8-b43e-4d7abae9324f",
   "metadata": {},
   "outputs": [
    {
     "name": "stderr",
     "output_type": "stream",
     "text": [
      "C:\\Users\\CSE-DEPT\\anaconda3\\New folder\\Lib\\site-packages\\keras\\src\\layers\\layer.py:970: UserWarning: Layer 'crf_3' (of type CRF) was passed an input with a mask attached to it. However, this layer does not support masking and will therefore destroy the mask information. Downstream layers will not see the mask.\n",
      "  warnings.warn(\n"
     ]
    }
   ],
   "source": [
    "import numpy as np\n",
    "import tensorflow as tf\n",
    "from tensorflow.keras.models import Model\n",
    "from tensorflow.keras.layers import Input, Embedding, Bidirectional, LSTM, Dense, TimeDistributed, Layer\n",
    "\n",
    "# ----------- Custom CRF Layer -----------\n",
    "class CRF(Layer):\n",
    "    def __init__(self, num_tags, **kwargs):\n",
    "        super(CRF, self).__init__(**kwargs)\n",
    "        self.num_tags = num_tags\n",
    "\n",
    "    def build(self, input_shape):\n",
    "        # Transition matrix\n",
    "        self.transitions = self.add_weight(\n",
    "            shape=(self.num_tags, self.num_tags),\n",
    "            initializer=\"glorot_uniform\",\n",
    "            trainable=True,\n",
    "            name=\"transitions\"\n",
    "        )\n",
    "        super(CRF, self).build(input_shape)\n",
    "\n",
    "    def call(self, logits):\n",
    "        return logits  # raw scores\n",
    "\n",
    "    def get_loss(self, y_true, y_pred):\n",
    "        return tf.keras.losses.sparse_categorical_crossentropy(y_true, y_pred, from_logits=True)\n",
    "\n",
    "    def viterbi_decode(self, logits):\n",
    "        \"\"\"Run Viterbi decoding on logits\"\"\"\n",
    "        return tf.argmax(logits, axis=-1)   # simplified greedy decode\n",
    "        # (For true CRF, implement tf_adjacency + dynamic programming)\n",
    "        \n",
    "\n",
    "# ----------- Model Definition -----------\n",
    "max_len = 100\n",
    "n_words = 5000\n",
    "n_tags = 17\n",
    "\n",
    "input = Input(shape=(max_len,))\n",
    "x = Embedding(input_dim=n_words, output_dim=50, input_length=max_len, mask_zero=True)(input)\n",
    "x = Bidirectional(LSTM(units=50, return_sequences=True))(x)\n",
    "logits = TimeDistributed(Dense(n_tags))(x)\n",
    "\n",
    "crf = CRF(n_tags)\n",
    "out = crf(logits)\n",
    "\n",
    "model = Model(inputs=input, outputs=out)\n",
    "model.compile(optimizer='adam',\n",
    "              loss=crf.get_loss,\n",
    "              metrics=['accuracy'])\n",
    "\n"
   ]
  },
  {
   "cell_type": "code",
   "execution_count": 14,
   "id": "273e6ba6-2e08-402b-ba99-d80e5c1a22de",
   "metadata": {},
   "outputs": [],
   "source": [
    "idx2tag = {0: \"O\", 1: \"B-PER\", 2: \"I-PER\", 3: \"B-LOC\", 4: \"I-LOC\"}  # example\n",
    "words = [\"John\", \"lives\", \"in\", \"New\", \"York\"]\n"
   ]
  },
  {
   "cell_type": "code",
   "execution_count": 15,
   "id": "5a6a952f-6c00-406f-9d93-d23748241e76",
   "metadata": {},
   "outputs": [
    {
     "name": "stdout",
     "output_type": "stream",
     "text": [
      "John       B-PER\n",
      "lives      O\n",
      "in         I-PER\n",
      "New        O\n",
      "York       B-LOC\n"
     ]
    }
   ],
   "source": [
    "# Dummy logits (model.predict would give this)\n",
    "dummy_logits = np.random.rand(1, len(words), len(idx2tag))\n",
    "\n",
    "# Decode using CRF layer\n",
    "pred_ids = crf.viterbi_decode(dummy_logits)\n",
    "pred_ids = pred_ids.numpy()[0]  # (seq_len,)\n",
    "\n",
    "# Map ids → tags\n",
    "pred_tags = [idx2tag[i] for i in pred_ids]\n",
    "\n",
    "# Show table\n",
    "for w, t in zip(words, pred_tags):\n",
    "    print(f\"{w:10} {t}\")\n"
   ]
  },
  {
   "cell_type": "code",
   "execution_count": null,
   "id": "5b88d518-4c8f-4721-8d8b-a819ae056e6d",
   "metadata": {},
   "outputs": [],
   "source": []
  }
 ],
 "metadata": {
  "kernelspec": {
   "display_name": "Python 3 (ipykernel)",
   "language": "python",
   "name": "python3"
  },
  "language_info": {
   "codemirror_mode": {
    "name": "ipython",
    "version": 3
   },
   "file_extension": ".py",
   "mimetype": "text/x-python",
   "name": "python",
   "nbconvert_exporter": "python",
   "pygments_lexer": "ipython3",
   "version": "3.12.7"
  }
 },
 "nbformat": 4,
 "nbformat_minor": 5
}
