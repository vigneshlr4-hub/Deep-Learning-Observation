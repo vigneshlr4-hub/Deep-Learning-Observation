{
  "nbformat": 4,
  "nbformat_minor": 0,
  "metadata": {
    "colab": {
      "provenance": []
    },
    "kernelspec": {
      "name": "python3",
      "display_name": "Python 3"
    },
    "language_info": {
      "name": "python"
    }
  },
  "cells": [
    {
      "cell_type": "code",
      "execution_count": 1,
      "metadata": {
        "colab": {
          "base_uri": "https://localhost:8080/"
        },
        "id": "cUZQ7R1XreSG",
        "outputId": "63a67888-731a-4fe9-b8c8-47574357c90a"
      },
      "outputs": [
        {
          "output_type": "stream",
          "name": "stdout",
          "text": [
            "Perceptron Prediction (For Observation)\n",
            "Test Input (X)\tPerceptron Output\tExpected Output\tRemarks\n",
            "[0 0]\t\t0\t\t\t0\t\tCorrect\n",
            "[0 1]\t\t0\t\t\t1\t\tMay fail\n",
            "[1 0]\t\t0\t\t\t1\t\tMay fail\n",
            "[1 1]\t\t0\t\t\t0\t\tCorrect\n"
          ]
        }
      ],
      "source": [
        "import numpy as np\n",
        "from sklearn.linear_model import Perceptron\n",
        "\n",
        "# XOR Inputs and Expected Outputs\n",
        "X = np.array([[0, 0], [0, 1], [1, 0], [1, 1]])\n",
        "Y = np.array([0, 1, 1, 0])  # XOR output\n",
        "\n",
        "# Train Perceptron\n",
        "model = Perceptron(max_iter=1000, tol=1e-3)\n",
        "model.fit(X, Y)\n",
        "\n",
        "# Predict and Compare\n",
        "print(\"Perceptron Prediction (For Observation)\")\n",
        "print(\"Test Input (X)\\tPerceptron Output\\tExpected Output\\tRemarks\")\n",
        "\n",
        "for i in range(len(X)):\n",
        "    pred = model.predict([X[i]])[0]\n",
        "    expected = Y[i]\n",
        "    remark = \"Correct\" if pred == expected else \"May fail\"\n",
        "    print(f\"{X[i]}\\t\\t{pred}\\t\\t\\t{expected}\\t\\t{remark}\")\n"
      ]
    },
    {
      "cell_type": "code",
      "source": [
        "import numpy as np\n",
        "from tensorflow.keras.models import Sequential\n",
        "from tensorflow.keras.layers import Dense\n",
        "\n",
        "# XOR Inputs and Outputs\n",
        "X = np.array([[0, 0], [0, 1], [1, 0], [1, 1]])\n",
        "Y = np.array([0, 1, 1, 0])  # Flattened for compatibility\n",
        "\n",
        "# Build the Neural Network\n",
        "model = Sequential([\n",
        "    Dense(2, input_dim=2, activation='tanh'),  # Hidden layer\n",
        "    Dense(1, activation='sigmoid')             # Output layer\n",
        "])\n",
        "\n",
        "# Compile the model\n",
        "model.compile(\n",
        "    optimizer='adam',\n",
        "    loss='binary_crossentropy',\n",
        "    metrics=['accuracy']\n",
        ")\n",
        "\n",
        "# Train the model\n",
        "model.fit(X, Y, epochs=500, verbose=0)\n",
        "\n",
        "# Predict and Display Output\n",
        "predictions = model.predict(X)\n",
        "print(\"Predicted Output:\")\n",
        "for i in range(len(X)):\n",
        "    print(f\"Input: {X[i]} → Predicted: {np.round(predictions[i][0])}\")\n"
      ],
      "metadata": {
        "colab": {
          "base_uri": "https://localhost:8080/"
        },
        "id": "35zj2oFPuvZK",
        "outputId": "a8819bd4-70ed-42b0-fd9b-43f141da2b65"
      },
      "execution_count": 2,
      "outputs": [
        {
          "output_type": "stream",
          "name": "stderr",
          "text": [
            "/usr/local/lib/python3.11/dist-packages/keras/src/layers/core/dense.py:93: UserWarning: Do not pass an `input_shape`/`input_dim` argument to a layer. When using Sequential models, prefer using an `Input(shape)` object as the first layer in the model instead.\n",
            "  super().__init__(activity_regularizer=activity_regularizer, **kwargs)\n"
          ]
        },
        {
          "output_type": "stream",
          "name": "stdout",
          "text": [
            "\u001b[1m1/1\u001b[0m \u001b[32m━━━━━━━━━━━━━━━━━━━━\u001b[0m\u001b[37m\u001b[0m \u001b[1m0s\u001b[0m 47ms/step\n",
            "Predicted Output:\n",
            "Input: [0 0] → Predicted: 1.0\n",
            "Input: [0 1] → Predicted: 0.0\n",
            "Input: [1 0] → Predicted: 1.0\n",
            "Input: [1 1] → Predicted: 0.0\n"
          ]
        }
      ]
    }
  ]
}