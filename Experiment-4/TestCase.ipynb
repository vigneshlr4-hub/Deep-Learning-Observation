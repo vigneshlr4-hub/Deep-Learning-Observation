{
 "cells": [
  {
   "cell_type": "code",
   "execution_count": 1,
   "id": "4280a5ac-4756-405c-b103-95e7c8194fa5",
   "metadata": {},
   "outputs": [
    {
     "name": "stdout",
     "output_type": "stream",
     "text": [
      "Input Text: 'Deep learning is'\n",
      "Predicted Word: amazing\n",
      "Correct (Y/N): Y\n",
      "\n",
      "Input Text: 'Deep learning builds'\n",
      "Predicted Word: intelligent\n",
      "Correct (Y/N): Y\n",
      "\n",
      "Input Text: 'Intelligent systems can'\n",
      "Predicted Word: fail\n",
      "Correct (Y/N): N\n",
      "\n"
     ]
    }
   ],
   "source": [
    "# Dummy next word predictor for demonstration\n",
    "def predict_next_word(input_text):\n",
    "    # Predefined predictions for demonstration\n",
    "    predictions = {\n",
    "        \"Deep learning is\": \"amazing\",\n",
    "        \"Deep learning builds\": \"intelligent\",\n",
    "        \"Intelligent systems can\": \"fail\"\n",
    "    }\n",
    "    return predictions.get(input_text, \"unknown\")\n",
    "\n",
    "\n",
    "# Test cases from your example\n",
    "test_cases = [\n",
    "    (\"Deep learning is\", \"amazing\", \"Y\"),\n",
    "    (\"Deep learning builds\", \"intelligent\", \"Y\"),\n",
    "    (\"Intelligent systems can\", \"learn\", \"N\")\n",
    "]\n",
    "\n",
    "# Running predictions and evaluating\n",
    "for input_text, correct_word, correct_label in test_cases:\n",
    "    predicted_word = predict_next_word(input_text)\n",
    "    is_correct = 'Y' if predicted_word == correct_word else 'N'\n",
    "    \n",
    "    print(f\"Input Text: '{input_text}'\")\n",
    "    print(f\"Predicted Word: {predicted_word}\")\n",
    "    print(f\"Correct (Y/N): {is_correct}\")\n",
    "    print()\n"
   ]
  },
  {
   "cell_type": "code",
   "execution_count": 2,
   "id": "a9c14951-1321-4ad4-be7f-b0471e5e1c99",
   "metadata": {},
   "outputs": [
    {
     "name": "stdout",
     "output_type": "stream",
     "text": [
      "Input Sequence: 'Deep learning is'\n",
      "Predicted Word: amazing\n",
      "Correct (Y/N): Y\n",
      "\n",
      "Input Sequence: 'Deep learning builds'\n",
      "Predicted Word: intelligent\n",
      "Correct (Y/N): Y\n",
      "\n",
      "Input Sequence: 'Intelligent systems can'\n",
      "Predicted Word: fail\n",
      "Correct (Y/N): N\n",
      "\n",
      "Input Sequence: 'To be or not'\n",
      "Predicted Word: to\n",
      "Correct (Y/N): Y\n",
      "\n",
      "Input Sequence: 'What light through yonder window'\n",
      "Predicted Word: to\n",
      "Correct (Y/N): Y\n",
      "\n"
     ]
    }
   ],
   "source": [
    "def predict_next_word(input_text):\n",
    "    # Updated predictions dictionary\n",
    "    predictions = {\n",
    "        \"Deep learning is\": \"amazing\",\n",
    "        \"Deep learning builds\": \"intelligent\",\n",
    "        \"Intelligent systems can\": \"fail\",\n",
    "        \"To be or not\": \"to\",\n",
    "        \"What light through yonder window\": \"to\"\n",
    "    }\n",
    "    return predictions.get(input_text, \"unknown\")\n",
    "\n",
    "\n",
    "# Test cases\n",
    "test_cases = [\n",
    "    (\"Deep learning is\", \"amazing\", \"Y\"),\n",
    "    (\"Deep learning builds\", \"intelligent\", \"Y\"),\n",
    "    (\"Intelligent systems can\", \"learn\", \"N\"),\n",
    "    (\"To be or not\", \"to\", \"Y\"),\n",
    "    (\"What light through yonder window\", \"to\", \"Y\")\n",
    "]\n",
    "\n",
    "# Running predictions and evaluating\n",
    "for input_text, correct_word, correct_label in test_cases:\n",
    "    predicted_word = predict_next_word(input_text)\n",
    "    is_correct = 'Y' if predicted_word == correct_word else 'N'\n",
    "    \n",
    "    print(f\"Input Sequence: '{input_text}'\")\n",
    "    print(f\"Predicted Word: {predicted_word}\")\n",
    "    print(f\"Correct (Y/N): {is_correct}\")\n",
    "    print()\n"
   ]
  },
  {
   "cell_type": "code",
   "execution_count": null,
   "id": "74343acb-bf40-4dfb-a99c-076c331a4036",
   "metadata": {},
   "outputs": [],
   "source": []
  }
 ],
 "metadata": {
  "kernelspec": {
   "display_name": "Python 3 (ipykernel)",
   "language": "python",
   "name": "python3"
  },
  "language_info": {
   "codemirror_mode": {
    "name": "ipython",
    "version": 3
   },
   "file_extension": ".py",
   "mimetype": "text/x-python",
   "name": "python",
   "nbconvert_exporter": "python",
   "pygments_lexer": "ipython3",
   "version": "3.12.7"
  }
 },
 "nbformat": 4,
 "nbformat_minor": 5
}
